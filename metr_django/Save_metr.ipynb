{
 "cells": [
  {
   "cell_type": "code",
   "execution_count": 14,
   "metadata": {
    "scrolled": true
   },
   "outputs": [
    {
     "name": "stdout",
     "output_type": "stream",
     "text": [
      "Done! 7689\n"
     ]
    }
   ],
   "source": [
    "import requests\n",
    "import json\n",
    "import pandas as pd\n",
    "from pandas.io.json import json_normalize\n",
    "#см сервер приложений\n",
    "import os\n",
    "import sys\n",
    "#import datetime\n",
    "from datetime import date as dt\n",
    "from datetime import timedelta#, date\n",
    "sys.path.append('/media/sf__Metr-analyzer/metr_django/')\n",
    "os.environ['DJANGO_SETTINGS_MODULE'] = 'metr.settings'\n",
    "import django\n",
    "django.setup()\n",
    "from yametr.models import *\n",
    "count=0\n",
    "print(dt.now())\n",
    "\n",
    "write_date = (2018,3,1) #первый день нужного месяца\n",
    "pub_date_id = Pubdate.objects.get(pub_date=write_date).id\n",
    "date1 = write_date.strftime('%Y-%m-%d')\n",
    "date2 = (dt(write_date.year + int(write_date.month / 12), ((write_date.month % 12) + 1), 1) - timedelta(days=1)).strftime('%Y-%m-%d')\n",
    "\n",
    "\n",
    "linkStart='https://api-metrika.yandex.ru/stat/v1/data?preset=sources_search_phrases&limit=10000&id=10934011&oauth_token=AQAAAAAGCPQsAATWPwznOWIgOk74k-Lq5a97L_k&date1='+date1+'&date2='+date2+'&pretty=true'\n",
    "#linkFilter='&filters=ym:s:regionCityName==%27Новосибирск%27%20AND(%20ym:s:startURL=@%27kigurumi%27%20OR%20ym:s:startURL=@%27pizhami%27)'\n",
    "linkFilter='&filters=ym:s:regionCityName==%27Новосибирск%27'\n",
    "linkMetr='&metrics=ym:s:visits,ym:s:pageviews,ym:s:bounceRate&dimensions=ym:s:lastSearchPhrase,ym:s:startURL'\n",
    "linkTotal=linkStart+linkFilter+linkMetr\n",
    "#print(linkTotal)\n",
    "r = requests.get(linkTotal)\n",
    "parsed = json.loads(r.text)['data']\n",
    "\n",
    "\n",
    "for par in parsed:\n",
    "    name1 = par['dimensions'][0]['name']\n",
    "    if len(name1)<75:\n",
    "        count+=1\n",
    "        url1 = par['dimensions'][1]['name']\n",
    "        urlClear=url1.find('#', 0,)\n",
    "        if urlClear>0:\n",
    "            url1=url1[0:urlClear]\n",
    "        #print(url1)\n",
    "        visit = par['metrics'][0]\n",
    "        view = par['metrics'][1]\n",
    "        fastrun = round(visit * par['metrics'][2]/100)\n",
    "\n",
    "        query, created = Zapros.objects.get_or_create(zapros_name=name1)\n",
    "        url, created = Siteurl.objects.get_or_create(link=url1)\n",
    "        zaprhistory, created = Zaproshistory.objects.update_or_create(link=url, zapros_name=query, pub_date_id=pub_date_id, \n",
    "            defaults=dict(zapros_value=visit,fastrun_value=fastrun,views_value=view))\n",
    "    #zapros_value=visit,fastrun_value=fastrun,views_value=view\n",
    "\n",
    "print(\"Done! \" + str(count))"
   ]
  },
  {
   "cell_type": "code",
   "execution_count": null,
   "metadata": {},
   "outputs": [],
   "source": [
    "#см сервер приложений\n",
    "import os\n",
    "#import datetime\n",
    "from datetime import datetime as dt\n",
    "print (dt.now())\n",
    "os.environ['DJANGO_SETTINGS_MODULE'] = '/home/alex/metr/metr/metr.settings'\n",
    "import django\n",
    "django.setup()\n",
    "mass=[['очки','https://translate.google.com/',19],['трусы','https://ya.ru/',61]]\n",
    "write_date=dt(dt.now().year,dt.now().month,1)\n",
    "\n",
    "from yametr.models import *\n",
    "for msss in mass:\n",
    "    query, created = Zapros.objects.get_or_create(zapros_name=msss[0])\n",
    "    url, created = Siteurl.objects.get_or_create(link=msss[1])\n",
    "    zaprhistory, created = Zaproshistory.objects.update_or_create(link=url, zapros_name=query, pub_date=write_date, defaults=dict(zapros_value=msss[2]))\n",
    "    #zaprhistory, created = Zaproshistory.objects.get_or_create(link=url, zapros_name=query, pub_date=write_date, zapros_value=msss[2])"
   ]
  },
  {
   "cell_type": "code",
   "execution_count": 1,
   "metadata": {},
   "outputs": [
    {
     "name": "stdout",
     "output_type": "stream",
     "text": [
      "Done\n"
     ]
    }
   ],
   "source": [
    "import requests\n",
    "import json\n",
    "import pandas as pd\n",
    "from pandas.io.json import json_normalize\n",
    "#см сервер приложений\n",
    "import os\n",
    "import sys\n",
    "#import datetime\n",
    "from datetime import datetime as dt\n",
    "from datetime import timedelta\n",
    "sys.path.append('/media/sf__Metr-analyzer/metr_django/')\n",
    "os.environ['DJANGO_SETTINGS_MODULE'] = 'metr.settings'\n",
    "import django\n",
    "django.setup()\n",
    "from yametr.models import *\n",
    "\n",
    "\n",
    "write_date=dt(2016,3,1)\n",
    "while write_date.year<2019:\n",
    "    url, created = Pubdate.objects.get_or_create(pub_date=write_date)\n",
    "    write_date = dt(write_date.year + int(write_date.month / 12), ((write_date.month % 12) + 1), 1)\n",
    "print('Done')"
   ]
  },
  {
   "cell_type": "code",
   "execution_count": null,
   "metadata": {},
   "outputs": [],
   "source": [
    "class Vehicle:\n",
    "    \"\"\"docstring\"\"\"\n",
    "    \n",
    "    def __init__(self,start,color):\n",
    "        self.count=start+1\n",
    "        self.color = color\n",
    "    def brake(self):\n",
    "        return '%s braking %s' % (self.color,self.count)\n",
    "    \n",
    "a=Vehicle(3,'red1')\n",
    "print(a.count)\n",
    "print(a.brake())"
   ]
  },
  {
   "cell_type": "code",
   "execution_count": null,
   "metadata": {},
   "outputs": [],
   "source": [
    "class Car(Vehicle):\n",
    "    \"\"\"\n",
    "    The Car class\n",
    "    \"\"\"\n",
    " \n",
    "    #----------------------------------------------------------------------\n",
    "    def brake(self):\n",
    "        \"\"\"\n",
    "        Override brake method\n",
    "        \"\"\"\n",
    "        return \"The car class is breaking slowly!\"\n",
    " \n",
    " \n",
    "\n",
    "car = Car(5,\"yellow\")\n",
    "car.brake()"
   ]
  },
  {
   "cell_type": "code",
   "execution_count": null,
   "metadata": {},
   "outputs": [],
   "source": [
    "sl=dict()\n",
    "sl['ss']=['as','ab']\n",
    "#sl['ss']\n",
    "for a in sl.values():\n",
    "    if 'as' in a:\n",
    "        print(a)"
   ]
  },
  {
   "cell_type": "code",
   "execution_count": 30,
   "metadata": {},
   "outputs": [
    {
     "data": {
      "text/plain": [
       "-1"
      ]
     },
     "execution_count": 30,
     "metadata": {},
     "output_type": "execute_result"
    }
   ],
   "source": [
    "ad1='as'\n",
    "ad1.find('a1',0,)"
   ]
  },
  {
   "cell_type": "code",
   "execution_count": null,
   "metadata": {},
   "outputs": [],
   "source": [
    ""
   ]
  }
 ],
 "metadata": {
  "kernelspec": {
   "display_name": "Python 3",
   "language": "python",
   "name": "python3"
  },
  "language_info": {
   "codemirror_mode": {
    "name": "ipython",
    "version": 3.0
   },
   "file_extension": ".py",
   "mimetype": "text/x-python",
   "name": "python",
   "nbconvert_exporter": "python",
   "pygments_lexer": "ipython3",
   "version": "3.5.2"
  }
 },
 "nbformat": 4,
 "nbformat_minor": 0
}